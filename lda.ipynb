{
 "cells": [
  {
   "cell_type": "code",
   "execution_count": 1,
   "id": "a5d6fba5-f0fb-45ca-a4b3-51152cdfca8e",
   "metadata": {},
   "outputs": [],
   "source": [
    "# If an error occurs in this cell, it is likely because you need to pip install a package(s) \n",
    "import pandas as pd\n",
    "import os\n",
    "import gensim\n",
    "from gensim.utils import simple_preprocess\n",
    "import nltk\n",
    "#nltk.download('wordnet')\n",
    "#from nltk.corpus import stopwords\n",
    "#from nltk.stem.lancaster import LancasterStemmer\n",
    "import gensim.corpora as corpora\n",
    "from pprint import pprint \n",
    "import ast\n",
    "from glob import glob\n",
    "from collections import Counter\n",
    "import re\n",
    "import matplotlib.pyplot as plt\n",
    "import csv\n",
    "import ipywidgets as widgets \n",
    "from ipywidgets import interact, interact_manual \n",
    "from wordcloud import WordCloud \n",
    "import seaborn as sns"
   ]
  },
  {
   "cell_type": "code",
   "execution_count": 3,
   "id": "1af0645d-d32c-4b12-9726-4af7a21e7e60",
   "metadata": {},
   "outputs": [],
   "source": [
    "# Set directory and get data - may need to modify this to wherever you have the data stored \n",
    "#os.chdir(\"/Users/jordan/Desktop/NLP_Syllabi_Project_copy/data_and_output\")\n",
    "data = pd.read_csv(\"cleaned_data_new.csv\", lineterminator='\\n')\n",
    "data.drop(data.columns[[0, 1, 2]], axis = 1, inplace = True) #drop meaningless indice columns \n",
    "data['index'] = data.index\n",
    "#print(data.head())\n",
    "#len(data.index) #4889 documents "
   ]
  },
  {
   "cell_type": "code",
   "execution_count": 4,
   "id": "e98fc338-75c1-4e3a-9cfc-c9236d7736d3",
   "metadata": {},
   "outputs": [],
   "source": [
    "# Create new data, just text and index \n",
    "data = data[['Corpus', 'index']] \n",
    "#print(data.head())"
   ]
  },
  {
   "cell_type": "code",
   "execution_count": 5,
   "id": "766fb95d-5127-4992-9ccd-ca799f16019b",
   "metadata": {},
   "outputs": [],
   "source": [
    "# Further preprocessing (removes stop words and also words 3 characters or less) \n",
    "# Note: There was additional preprocessing done in previous steps (earlier scripts located in scripts folder)\n",
    "def preprocess(text):\n",
    "    result = []\n",
    "    for token in gensim.utils.simple_preprocess(text):\n",
    "        if token not in gensim.parsing.preprocessing.STOPWORDS and len(token) >3:\n",
    "            result.append(token)\n",
    "    return result\n",
    "\n",
    "#doc_sample = data[data['index'] == 1].values[0][0]\n",
    "#print('original document: ')\n",
    "#words = []\n",
    "#for word in doc_sample.split(' '):\n",
    "#    words.append(word)\n",
    "#print(words)\n",
    "#print('\\n\\n tokenized and document: ')\n",
    "#print(preprocess(doc_sample))\n",
    "\n",
    "processed_text = data['Corpus'].astype('str').map(preprocess)\n",
    "#print(processed_text[:10])"
   ]
  },
  {
   "cell_type": "code",
   "execution_count": 6,
   "id": "e50de6a6-7295-4478-bf27-0e6d922f6da0",
   "metadata": {},
   "outputs": [],
   "source": [
    "# Create a dictionary\n",
    "dictionary = gensim.corpora.Dictionary(processed_text)\n",
    "#count = 0 \n",
    "#for k, v in dictionary.iteritems():\n",
    "#    print(k, v)\n",
    "#    count += 1\n",
    "#    if count > 10:\n",
    "#        break"
   ]
  },
  {
   "cell_type": "code",
   "execution_count": 7,
   "id": "dd35804f-9d80-47de-8b10-c981902de1aa",
   "metadata": {},
   "outputs": [
    {
     "name": "stdout",
     "output_type": "stream",
     "text": [
      "NOTE: CHANGING MODEL PARAMETERS WILL PRODUCE NEW OUTPUT AND MAY TAKE AWHILE TO REFRESH\n"
     ]
    },
    {
     "data": {
      "application/vnd.jupyter.widget-view+json": {
       "model_id": "dc31682116aa468780b4ce4d7572aaae",
       "version_major": 2,
       "version_minor": 0
      },
      "text/plain": [
       "interactive(children=(IntSlider(value=25, description='low_freq', max=50, min=1), FloatSlider(value=0.35000000…"
      ]
     },
     "metadata": {},
     "output_type": "display_data"
    }
   ],
   "source": [
    "# Interactive LDA modeling \n",
    "print(\"NOTE: CHANGING MODEL PARAMETERS WILL PRODUCE NEW OUTPUT AND MAY TAKE AWHILE TO REFRESH\")\n",
    "@interact \n",
    "def output(low_freq=(1, 50, 1), high_freq=(0.05, 0.7, 0.05), topic_num = (10, 100, 10)):\n",
    "    dictionary.filter_extremes(no_below=low_freq, no_above = high_freq) #modify these \n",
    "    bow_corpus = [dictionary.doc2bow(doc) for doc in processed_text]\n",
    "    lda_model = gensim.models.LdaMulticore(bow_corpus, num_topics=topic_num, id2word=dictionary) \n",
    "    top_words_per_topic = []\n",
    "    for t in range(lda_model.num_topics):\n",
    "        y = [str(t)]\n",
    "        x = lda_model.get_topic_terms(t,10)\n",
    "        y.extend([dictionary[pair[0]] for pair in x])\n",
    "        top_words_per_topic.append(y)\n",
    "        y=[]\n",
    "    top_words_per_topic\n",
    "    word_list = [\"Word\" + str(i) for i in list(range(1,11))]\n",
    "    word_list\n",
    "    word_list.insert(0, \"Topic\")\n",
    "    out = pd.DataFrame(top_words_per_topic, columns=word_list)\n",
    "    # This print statement is to help the viewer know when output has refreshed \n",
    "    print(\"You are viewing results from a model with the following paramaters: \\n\"  \"Low frequency cutoff=\" + str(low_freq) + \"\\n\" + \n",
    "          \"High frequency cutoff=\"+str(round(high_freq, 2)) + \"\\n\" + \"Number of topics=\" + str(topic_num))\n",
    "    return out"
   ]
  },
  {
   "cell_type": "code",
   "execution_count": null,
   "id": "95c8033c-a602-4b02-a004-038333825e39",
   "metadata": {},
   "outputs": [],
   "source": []
  }
 ],
 "metadata": {
  "kernelspec": {
   "display_name": "Python 3",
   "language": "python",
   "name": "python3"
  },
  "language_info": {
   "codemirror_mode": {
    "name": "ipython",
    "version": 3
   },
   "file_extension": ".py",
   "mimetype": "text/x-python",
   "name": "python",
   "nbconvert_exporter": "python",
   "pygments_lexer": "ipython3",
   "version": "3.9.5"
  },
  "widgets": {
   "application/vnd.jupyter.widget-state+json": {
    "state": {
     "032cf90512094455a8ba231b5f7168e9": {
      "model_module": "@jupyter-widgets/base",
      "model_module_version": "1.2.0",
      "model_name": "LayoutModel",
      "state": {}
     },
     "053ee74bdc154c2bb5e9d7d4ab48b42b": {
      "model_module": "@jupyter-widgets/output",
      "model_module_version": "1.0.0",
      "model_name": "OutputModel",
      "state": {
       "layout": "IPY_MODEL_73680db8aefe49968743ca9416fdfe07",
       "outputs": [
        {
         "name": "stdout",
         "output_type": "stream",
         "text": "You are viewing results from a model with the following paramaters: \nLow frequency cutoff=25\nHigh frequency cutoff=0.35\nNumber of topics=50\n"
        },
        {
         "data": {
          "text/html": "<div>\n<style scoped>\n    .dataframe tbody tr th:only-of-type {\n        vertical-align: middle;\n    }\n\n    .dataframe tbody tr th {\n        vertical-align: top;\n    }\n\n    .dataframe thead th {\n        text-align: right;\n    }\n</style>\n<table border=\"1\" class=\"dataframe\">\n  <thead>\n    <tr style=\"text-align: right;\">\n      <th></th>\n      <th>Topic</th>\n      <th>Word1</th>\n      <th>Word2</th>\n      <th>Word3</th>\n      <th>Word4</th>\n      <th>Word5</th>\n      <th>Word6</th>\n      <th>Word7</th>\n      <th>Word8</th>\n      <th>Word9</th>\n      <th>Word10</th>\n    </tr>\n  </thead>\n  <tbody>\n    <tr>\n      <th>0</th>\n      <td>0</td>\n      <td>american</td>\n      <td>problem</td>\n      <td>march</td>\n      <td>health</td>\n      <td>press</td>\n      <td>midterm</td>\n      <td>homework</td>\n      <td>journal</td>\n      <td>section</td>\n      <td>april</td>\n    </tr>\n    <tr>\n      <th>1</th>\n      <td>1</td>\n      <td>health</td>\n      <td>digital</td>\n      <td>data</td>\n      <td>projects</td>\n      <td>design</td>\n      <td>video</td>\n      <td>media</td>\n      <td>film</td>\n      <td>public</td>\n      <td>journal</td>\n    </tr>\n    <tr>\n      <th>2</th>\n      <td>2</td>\n      <td>homework</td>\n      <td>section</td>\n      <td>health</td>\n      <td>hall</td>\n      <td>archaeology</td>\n      <td>exams</td>\n      <td>lecture</td>\n      <td>data</td>\n      <td>public</td>\n      <td>chapter</td>\n    </tr>\n    <tr>\n      <th>3</th>\n      <td>3</td>\n      <td>homework</td>\n      <td>language</td>\n      <td>essay</td>\n      <td>health</td>\n      <td>press</td>\n      <td>culture</td>\n      <td>section</td>\n      <td>lecture</td>\n      <td>design</td>\n      <td>policy</td>\n    </tr>\n    <tr>\n      <th>4</th>\n      <td>4</td>\n      <td>homework</td>\n      <td>health</td>\n      <td>wednesday</td>\n      <td>exams</td>\n      <td>design</td>\n      <td>chapter</td>\n      <td>engineering</td>\n      <td>global</td>\n      <td>section</td>\n      <td>language</td>\n    </tr>\n    <tr>\n      <th>5</th>\n      <td>5</td>\n      <td>homework</td>\n      <td>press</td>\n      <td>health</td>\n      <td>data</td>\n      <td>lecture</td>\n      <td>language</td>\n      <td>wednesday</td>\n      <td>journal</td>\n      <td>notes</td>\n      <td>policy</td>\n    </tr>\n    <tr>\n      <th>6</th>\n      <td>6</td>\n      <td>press</td>\n      <td>political</td>\n      <td>health</td>\n      <td>politics</td>\n      <td>journal</td>\n      <td>american</td>\n      <td>section</td>\n      <td>chapter</td>\n      <td>lecture</td>\n      <td>science</td>\n    </tr>\n    <tr>\n      <th>7</th>\n      <td>7</td>\n      <td>press</td>\n      <td>homework</td>\n      <td>journal</td>\n      <td>policy</td>\n      <td>april</td>\n      <td>language</td>\n      <td>unit</td>\n      <td>lecture</td>\n      <td>economic</td>\n      <td>data</td>\n    </tr>\n    <tr>\n      <th>8</th>\n      <td>8</td>\n      <td>journal</td>\n      <td>language</td>\n      <td>press</td>\n      <td>health</td>\n      <td>homework</td>\n      <td>development</td>\n      <td>political</td>\n      <td>economic</td>\n      <td>lecture</td>\n      <td>march</td>\n    </tr>\n    <tr>\n      <th>9</th>\n      <td>9</td>\n      <td>homework</td>\n      <td>lecture</td>\n      <td>chapter</td>\n      <td>theory</td>\n      <td>midterm</td>\n      <td>exams</td>\n      <td>journal</td>\n      <td>problem</td>\n      <td>section</td>\n      <td>sections</td>\n    </tr>\n    <tr>\n      <th>10</th>\n      <td>10</td>\n      <td>homework</td>\n      <td>journal</td>\n      <td>language</td>\n      <td>development</td>\n      <td>policy</td>\n      <td>seminar</td>\n      <td>literature</td>\n      <td>press</td>\n      <td>change</td>\n      <td>essay</td>\n    </tr>\n    <tr>\n      <th>11</th>\n      <td>11</td>\n      <td>archaeology</td>\n      <td>american</td>\n      <td>journal</td>\n      <td>press</td>\n      <td>public</td>\n      <td>culture</td>\n      <td>modern</td>\n      <td>york</td>\n      <td>april</td>\n      <td>chapter</td>\n    </tr>\n    <tr>\n      <th>12</th>\n      <td>12</td>\n      <td>homework</td>\n      <td>language</td>\n      <td>lecture</td>\n      <td>exercises</td>\n      <td>primary</td>\n      <td>april</td>\n      <td>exams</td>\n      <td>cultural</td>\n      <td>arabic</td>\n      <td>case</td>\n    </tr>\n    <tr>\n      <th>13</th>\n      <td>13</td>\n      <td>language</td>\n      <td>lecture</td>\n      <td>literature</td>\n      <td>chapter</td>\n      <td>press</td>\n      <td>section</td>\n      <td>problem</td>\n      <td>culture</td>\n      <td>theory</td>\n      <td>life</td>\n    </tr>\n    <tr>\n      <th>14</th>\n      <td>14</td>\n      <td>health</td>\n      <td>public</td>\n      <td>data</td>\n      <td>press</td>\n      <td>april</td>\n      <td>homework</td>\n      <td>section</td>\n      <td>hall</td>\n      <td>policy</td>\n      <td>march</td>\n    </tr>\n    <tr>\n      <th>15</th>\n      <td>15</td>\n      <td>homework</td>\n      <td>lesson</td>\n      <td>exams</td>\n      <td>hall</td>\n      <td>section</td>\n      <td>press</td>\n      <td>language</td>\n      <td>lecture</td>\n      <td>public</td>\n      <td>science</td>\n    </tr>\n    <tr>\n      <th>16</th>\n      <td>16</td>\n      <td>homework</td>\n      <td>health</td>\n      <td>section</td>\n      <td>chapter</td>\n      <td>monday</td>\n      <td>thursday</td>\n      <td>american</td>\n      <td>language</td>\n      <td>question</td>\n      <td>tuesday</td>\n    </tr>\n    <tr>\n      <th>17</th>\n      <td>17</td>\n      <td>lecture</td>\n      <td>chapter</td>\n      <td>health</td>\n      <td>press</td>\n      <td>section</td>\n      <td>problem</td>\n      <td>journal</td>\n      <td>language</td>\n      <td>case</td>\n      <td>exams</td>\n    </tr>\n    <tr>\n      <th>18</th>\n      <td>18</td>\n      <td>press</td>\n      <td>american</td>\n      <td>journal</td>\n      <td>language</td>\n      <td>economic</td>\n      <td>chapter</td>\n      <td>october</td>\n      <td>lecture</td>\n      <td>tuesday</td>\n      <td>global</td>\n    </tr>\n    <tr>\n      <th>19</th>\n      <td>19</td>\n      <td>press</td>\n      <td>american</td>\n      <td>section</td>\n      <td>culture</td>\n      <td>journal</td>\n      <td>policy</td>\n      <td>health</td>\n      <td>field</td>\n      <td>theory</td>\n      <td>science</td>\n    </tr>\n    <tr>\n      <th>20</th>\n      <td>20</td>\n      <td>section</td>\n      <td>chapter</td>\n      <td>journal</td>\n      <td>press</td>\n      <td>political</td>\n      <td>march</td>\n      <td>lecture</td>\n      <td>april</td>\n      <td>midterm</td>\n      <td>february</td>\n    </tr>\n    <tr>\n      <th>21</th>\n      <td>21</td>\n      <td>homework</td>\n      <td>press</td>\n      <td>midterm</td>\n      <td>problem</td>\n      <td>theory</td>\n      <td>journal</td>\n      <td>lectures</td>\n      <td>american</td>\n      <td>april</td>\n      <td>exams</td>\n    </tr>\n    <tr>\n      <th>22</th>\n      <td>22</td>\n      <td>american</td>\n      <td>theory</td>\n      <td>midterm</td>\n      <td>press</td>\n      <td>book</td>\n      <td>culture</td>\n      <td>homework</td>\n      <td>seminar</td>\n      <td>journal</td>\n      <td>policy</td>\n    </tr>\n    <tr>\n      <th>23</th>\n      <td>23</td>\n      <td>press</td>\n      <td>seminar</td>\n      <td>american</td>\n      <td>science</td>\n      <td>october</td>\n      <td>theory</td>\n      <td>political</td>\n      <td>york</td>\n      <td>health</td>\n      <td>major</td>\n    </tr>\n    <tr>\n      <th>24</th>\n      <td>24</td>\n      <td>homework</td>\n      <td>chapter</td>\n      <td>april</td>\n      <td>friday</td>\n      <td>october</td>\n      <td>american</td>\n      <td>monday</td>\n      <td>wednesday</td>\n      <td>midterm</td>\n      <td>march</td>\n    </tr>\n    <tr>\n      <th>25</th>\n      <td>25</td>\n      <td>press</td>\n      <td>section</td>\n      <td>essay</td>\n      <td>political</td>\n      <td>chapter</td>\n      <td>politics</td>\n      <td>american</td>\n      <td>black</td>\n      <td>york</td>\n      <td>theory</td>\n    </tr>\n    <tr>\n      <th>26</th>\n      <td>26</td>\n      <td>press</td>\n      <td>design</td>\n      <td>culture</td>\n      <td>journal</td>\n      <td>media</td>\n      <td>york</td>\n      <td>science</td>\n      <td>chapter</td>\n      <td>language</td>\n      <td>lectures</td>\n    </tr>\n    <tr>\n      <th>27</th>\n      <td>27</td>\n      <td>health</td>\n      <td>homework</td>\n      <td>press</td>\n      <td>journal</td>\n      <td>data</td>\n      <td>public</td>\n      <td>film</td>\n      <td>presentations</td>\n      <td>cultural</td>\n      <td>policy</td>\n    </tr>\n    <tr>\n      <th>28</th>\n      <td>28</td>\n      <td>homework</td>\n      <td>section</td>\n      <td>lecture</td>\n      <td>economic</td>\n      <td>exams</td>\n      <td>language</td>\n      <td>theory</td>\n      <td>american</td>\n      <td>problems</td>\n      <td>hall</td>\n    </tr>\n    <tr>\n      <th>29</th>\n      <td>29</td>\n      <td>press</td>\n      <td>homework</td>\n      <td>chapter</td>\n      <td>american</td>\n      <td>journal</td>\n      <td>health</td>\n      <td>language</td>\n      <td>lecture</td>\n      <td>data</td>\n      <td>section</td>\n    </tr>\n    <tr>\n      <th>30</th>\n      <td>30</td>\n      <td>press</td>\n      <td>lecture</td>\n      <td>culture</td>\n      <td>chapter</td>\n      <td>section</td>\n      <td>american</td>\n      <td>politics</td>\n      <td>question</td>\n      <td>modern</td>\n      <td>york</td>\n    </tr>\n    <tr>\n      <th>31</th>\n      <td>31</td>\n      <td>health</td>\n      <td>press</td>\n      <td>film</td>\n      <td>care</td>\n      <td>modern</td>\n      <td>seminar</td>\n      <td>homework</td>\n      <td>section</td>\n      <td>language</td>\n      <td>american</td>\n    </tr>\n    <tr>\n      <th>32</th>\n      <td>32</td>\n      <td>language</td>\n      <td>health</td>\n      <td>journal</td>\n      <td>american</td>\n      <td>press</td>\n      <td>culture</td>\n      <td>activities</td>\n      <td>media</td>\n      <td>case</td>\n      <td>wednesday</td>\n    </tr>\n    <tr>\n      <th>33</th>\n      <td>33</td>\n      <td>homework</td>\n      <td>journal</td>\n      <td>chapter</td>\n      <td>modern</td>\n      <td>midterm</td>\n      <td>health</td>\n      <td>economic</td>\n      <td>data</td>\n      <td>science</td>\n      <td>exams</td>\n    </tr>\n    <tr>\n      <th>34</th>\n      <td>34</td>\n      <td>press</td>\n      <td>chapter</td>\n      <td>march</td>\n      <td>political</td>\n      <td>april</td>\n      <td>science</td>\n      <td>american</td>\n      <td>politics</td>\n      <td>york</td>\n      <td>journal</td>\n    </tr>\n    <tr>\n      <th>35</th>\n      <td>35</td>\n      <td>press</td>\n      <td>language</td>\n      <td>public</td>\n      <td>health</td>\n      <td>york</td>\n      <td>culture</td>\n      <td>black</td>\n      <td>development</td>\n      <td>chapter</td>\n      <td>monday</td>\n    </tr>\n    <tr>\n      <th>36</th>\n      <td>36</td>\n      <td>health</td>\n      <td>lecture</td>\n      <td>film</td>\n      <td>homework</td>\n      <td>public</td>\n      <td>american</td>\n      <td>data</td>\n      <td>press</td>\n      <td>science</td>\n      <td>media</td>\n    </tr>\n    <tr>\n      <th>37</th>\n      <td>37</td>\n      <td>press</td>\n      <td>homework</td>\n      <td>public</td>\n      <td>science</td>\n      <td>policy</td>\n      <td>york</td>\n      <td>seminar</td>\n      <td>health</td>\n      <td>women</td>\n      <td>american</td>\n    </tr>\n    <tr>\n      <th>38</th>\n      <td>38</td>\n      <td>journal</td>\n      <td>press</td>\n      <td>american</td>\n      <td>homework</td>\n      <td>response</td>\n      <td>april</td>\n      <td>health</td>\n      <td>presentations</td>\n      <td>political</td>\n      <td>media</td>\n    </tr>\n    <tr>\n      <th>39</th>\n      <td>39</td>\n      <td>homework</td>\n      <td>chapter</td>\n      <td>section</td>\n      <td>language</td>\n      <td>data</td>\n      <td>health</td>\n      <td>november</td>\n      <td>october</td>\n      <td>activities</td>\n      <td>textbook</td>\n    </tr>\n    <tr>\n      <th>40</th>\n      <td>40</td>\n      <td>homework</td>\n      <td>public</td>\n      <td>health</td>\n      <td>data</td>\n      <td>chapter</td>\n      <td>book</td>\n      <td>science</td>\n      <td>lecture</td>\n      <td>policy</td>\n      <td>design</td>\n    </tr>\n    <tr>\n      <th>41</th>\n      <td>41</td>\n      <td>homework</td>\n      <td>exams</td>\n      <td>problems</td>\n      <td>data</td>\n      <td>midterm</td>\n      <td>lecture</td>\n      <td>problem</td>\n      <td>points</td>\n      <td>unit</td>\n      <td>phys</td>\n    </tr>\n    <tr>\n      <th>42</th>\n      <td>42</td>\n      <td>press</td>\n      <td>chapter</td>\n      <td>lecture</td>\n      <td>language</td>\n      <td>oral</td>\n      <td>homework</td>\n      <td>american</td>\n      <td>york</td>\n      <td>essay</td>\n      <td>culture</td>\n    </tr>\n    <tr>\n      <th>43</th>\n      <td>43</td>\n      <td>seminar</td>\n      <td>data</td>\n      <td>american</td>\n      <td>press</td>\n      <td>chapter</td>\n      <td>journal</td>\n      <td>section</td>\n      <td>lecture</td>\n      <td>lectures</td>\n      <td>political</td>\n    </tr>\n    <tr>\n      <th>44</th>\n      <td>44</td>\n      <td>homework</td>\n      <td>journal</td>\n      <td>exercises</td>\n      <td>economic</td>\n      <td>section</td>\n      <td>press</td>\n      <td>data</td>\n      <td>midterm</td>\n      <td>american</td>\n      <td>language</td>\n    </tr>\n    <tr>\n      <th>45</th>\n      <td>45</td>\n      <td>chapter</td>\n      <td>language</td>\n      <td>press</td>\n      <td>health</td>\n      <td>journal</td>\n      <td>homework</td>\n      <td>case</td>\n      <td>policy</td>\n      <td>political</td>\n      <td>lecture</td>\n    </tr>\n    <tr>\n      <th>46</th>\n      <td>46</td>\n      <td>health</td>\n      <td>data</td>\n      <td>american</td>\n      <td>lecture</td>\n      <td>language</td>\n      <td>lectures</td>\n      <td>homework</td>\n      <td>press</td>\n      <td>exams</td>\n      <td>public</td>\n    </tr>\n    <tr>\n      <th>47</th>\n      <td>47</td>\n      <td>homework</td>\n      <td>language</td>\n      <td>workshop</td>\n      <td>chapter</td>\n      <td>essay</td>\n      <td>section</td>\n      <td>exams</td>\n      <td>performance</td>\n      <td>wednesday</td>\n      <td>health</td>\n    </tr>\n    <tr>\n      <th>48</th>\n      <td>48</td>\n      <td>health</td>\n      <td>press</td>\n      <td>journal</td>\n      <td>american</td>\n      <td>public</td>\n      <td>policy</td>\n      <td>york</td>\n      <td>culture</td>\n      <td>essay</td>\n      <td>science</td>\n    </tr>\n    <tr>\n      <th>49</th>\n      <td>49</td>\n      <td>hall</td>\n      <td>american</td>\n      <td>homework</td>\n      <td>section</td>\n      <td>monday</td>\n      <td>lecture</td>\n      <td>chapters</td>\n      <td>midterm</td>\n      <td>policy</td>\n      <td>economic</td>\n    </tr>\n  </tbody>\n</table>\n</div>",
          "text/plain": "   Topic        Word1      Word2       Word3        Word4        Word5  \\\n0      0     american    problem       march       health        press   \n1      1       health    digital        data     projects       design   \n2      2     homework    section      health         hall  archaeology   \n3      3     homework   language       essay       health        press   \n4      4     homework     health   wednesday        exams       design   \n5      5     homework      press      health         data      lecture   \n6      6        press  political      health     politics      journal   \n7      7        press   homework     journal       policy        april   \n8      8      journal   language       press       health     homework   \n9      9     homework    lecture     chapter       theory      midterm   \n10    10     homework    journal    language  development       policy   \n11    11  archaeology   american     journal        press       public   \n12    12     homework   language     lecture    exercises      primary   \n13    13     language    lecture  literature      chapter        press   \n14    14       health     public        data        press        april   \n15    15     homework     lesson       exams         hall      section   \n16    16     homework     health     section      chapter       monday   \n17    17      lecture    chapter      health        press      section   \n18    18        press   american     journal     language     economic   \n19    19        press   american     section      culture      journal   \n20    20      section    chapter     journal        press    political   \n21    21     homework      press     midterm      problem       theory   \n22    22     american     theory     midterm        press         book   \n23    23        press    seminar    american      science      october   \n24    24     homework    chapter       april       friday      october   \n25    25        press    section       essay    political      chapter   \n26    26        press     design     culture      journal        media   \n27    27       health   homework       press      journal         data   \n28    28     homework    section     lecture     economic        exams   \n29    29        press   homework     chapter     american      journal   \n30    30        press    lecture     culture      chapter      section   \n31    31       health      press        film         care       modern   \n32    32     language     health     journal     american        press   \n33    33     homework    journal     chapter       modern      midterm   \n34    34        press    chapter       march    political        april   \n35    35        press   language      public       health         york   \n36    36       health    lecture        film     homework       public   \n37    37        press   homework      public      science       policy   \n38    38      journal      press    american     homework     response   \n39    39     homework    chapter     section     language         data   \n40    40     homework     public      health         data      chapter   \n41    41     homework      exams    problems         data      midterm   \n42    42        press    chapter     lecture     language         oral   \n43    43      seminar       data    american        press      chapter   \n44    44     homework    journal   exercises     economic      section   \n45    45      chapter   language       press       health      journal   \n46    46       health       data    american      lecture     language   \n47    47     homework   language    workshop      chapter        essay   \n48    48       health      press     journal     american       public   \n49    49         hall   american    homework      section       monday   \n\n          Word6        Word7          Word8       Word9     Word10  \n0       midterm     homework        journal     section      april  \n1         video        media           film      public    journal  \n2         exams      lecture           data      public    chapter  \n3       culture      section        lecture      design     policy  \n4       chapter  engineering         global     section   language  \n5      language    wednesday        journal       notes     policy  \n6      american      section        chapter     lecture    science  \n7      language         unit        lecture    economic       data  \n8   development    political       economic     lecture      march  \n9         exams      journal        problem     section   sections  \n10      seminar   literature          press      change      essay  \n11      culture       modern           york       april    chapter  \n12        april        exams       cultural      arabic       case  \n13      section      problem        culture      theory       life  \n14     homework      section           hall      policy      march  \n15        press     language        lecture      public    science  \n16     thursday     american       language    question    tuesday  \n17      problem      journal       language        case      exams  \n18      chapter      october        lecture     tuesday     global  \n19       policy       health          field      theory    science  \n20        march      lecture          april     midterm   february  \n21      journal     lectures       american       april      exams  \n22      culture     homework        seminar     journal     policy  \n23       theory    political           york      health      major  \n24     american       monday      wednesday     midterm      march  \n25     politics     american          black        york     theory  \n26         york      science        chapter    language   lectures  \n27       public         film  presentations    cultural     policy  \n28     language       theory       american    problems       hall  \n29       health     language        lecture        data    section  \n30     american     politics       question      modern       york  \n31      seminar     homework        section    language   american  \n32      culture   activities          media        case  wednesday  \n33       health     economic           data     science      exams  \n34      science     american       politics        york    journal  \n35      culture        black    development     chapter     monday  \n36     american         data          press     science      media  \n37         york      seminar         health       women   american  \n38        april       health  presentations   political      media  \n39       health     november        october  activities   textbook  \n40         book      science        lecture      policy     design  \n41      lecture      problem         points        unit       phys  \n42     homework     american           york       essay    culture  \n43      journal      section        lecture    lectures  political  \n44        press         data        midterm    american   language  \n45     homework         case         policy   political    lecture  \n46     lectures     homework          press       exams     public  \n47      section        exams    performance   wednesday     health  \n48       policy         york        culture       essay    science  \n49      lecture     chapters        midterm      policy   economic  "
         },
         "metadata": {},
         "output_type": "display_data"
        }
       ]
      }
     },
     "2dd6813e7a3a4f21820b54630ebf257b": {
      "model_module": "@jupyter-widgets/controls",
      "model_module_version": "1.5.0",
      "model_name": "FloatSliderModel",
      "state": {
       "description": "high_freq",
       "layout": "IPY_MODEL_efb3c77762f0400cb46bc8b87c1b3550",
       "max": 0.7,
       "min": 0.05,
       "step": 0.05,
       "style": "IPY_MODEL_7758149e13ca4c3e80f787a76ef58d00",
       "value": 0.35000000000000003
      }
     },
     "47d03163be7442b78b21a94993b9b9ba": {
      "model_module": "@jupyter-widgets/controls",
      "model_module_version": "1.5.0",
      "model_name": "IntSliderModel",
      "state": {
       "description": "topic_num",
       "layout": "IPY_MODEL_032cf90512094455a8ba231b5f7168e9",
       "min": 10,
       "step": 10,
       "style": "IPY_MODEL_d542ab852d7043998e221ce4ed30462d",
       "value": 50
      }
     },
     "4dd8bc824fa445d4a1e9c6bd3901d156": {
      "model_module": "@jupyter-widgets/controls",
      "model_module_version": "1.5.0",
      "model_name": "IntSliderModel",
      "state": {
       "description": "low_freq",
       "layout": "IPY_MODEL_615637c457f8493d94f09b79bf155ee4",
       "max": 50,
       "min": 1,
       "style": "IPY_MODEL_9d1f4f98c88b42feb9c0fddbbde47dd5",
       "value": 25
      }
     },
     "60d26788613a4d1782fdeec2284b5874": {
      "model_module": "@jupyter-widgets/base",
      "model_module_version": "1.2.0",
      "model_name": "LayoutModel",
      "state": {}
     },
     "615637c457f8493d94f09b79bf155ee4": {
      "model_module": "@jupyter-widgets/base",
      "model_module_version": "1.2.0",
      "model_name": "LayoutModel",
      "state": {}
     },
     "73680db8aefe49968743ca9416fdfe07": {
      "model_module": "@jupyter-widgets/base",
      "model_module_version": "1.2.0",
      "model_name": "LayoutModel",
      "state": {}
     },
     "7758149e13ca4c3e80f787a76ef58d00": {
      "model_module": "@jupyter-widgets/controls",
      "model_module_version": "1.5.0",
      "model_name": "SliderStyleModel",
      "state": {
       "description_width": ""
      }
     },
     "9d1f4f98c88b42feb9c0fddbbde47dd5": {
      "model_module": "@jupyter-widgets/controls",
      "model_module_version": "1.5.0",
      "model_name": "SliderStyleModel",
      "state": {
       "description_width": ""
      }
     },
     "d542ab852d7043998e221ce4ed30462d": {
      "model_module": "@jupyter-widgets/controls",
      "model_module_version": "1.5.0",
      "model_name": "SliderStyleModel",
      "state": {
       "description_width": ""
      }
     },
     "dc31682116aa468780b4ce4d7572aaae": {
      "model_module": "@jupyter-widgets/controls",
      "model_module_version": "1.5.0",
      "model_name": "VBoxModel",
      "state": {
       "_dom_classes": [
        "widget-interact"
       ],
       "children": [
        "IPY_MODEL_4dd8bc824fa445d4a1e9c6bd3901d156",
        "IPY_MODEL_2dd6813e7a3a4f21820b54630ebf257b",
        "IPY_MODEL_47d03163be7442b78b21a94993b9b9ba",
        "IPY_MODEL_053ee74bdc154c2bb5e9d7d4ab48b42b"
       ],
       "layout": "IPY_MODEL_60d26788613a4d1782fdeec2284b5874"
      }
     },
     "efb3c77762f0400cb46bc8b87c1b3550": {
      "model_module": "@jupyter-widgets/base",
      "model_module_version": "1.2.0",
      "model_name": "LayoutModel",
      "state": {}
     }
    },
    "version_major": 2,
    "version_minor": 0
   }
  }
 },
 "nbformat": 4,
 "nbformat_minor": 5
}
