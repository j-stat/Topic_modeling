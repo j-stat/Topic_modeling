{
 "cells": [
  {
   "cell_type": "code",
   "execution_count": 2,
   "id": "a5d6fba5-f0fb-45ca-a4b3-51152cdfca8e",
   "metadata": {},
   "outputs": [],
   "source": [
    "# If an error occurs in this cell, it is likely because you need to pip install a package(s) \n",
    "import pandas as pd\n",
    "import os\n",
    "import gensim\n",
    "from gensim.utils import simple_preprocess\n",
    "import nltk\n",
    "#nltk.download('wordnet')\n",
    "#from nltk.corpus import stopwords\n",
    "#from nltk.stem.lancaster import LancasterStemmer\n",
    "import gensim.corpora as corpora\n",
    "from pprint import pprint \n",
    "import ast\n",
    "from glob import glob\n",
    "from collections import Counter\n",
    "import re\n",
    "import matplotlib.pyplot as plt\n",
    "import csv\n",
    "import ipywidgets as widgets \n",
    "from ipywidgets import interact, interact_manual \n",
    "from wordcloud import WordCloud \n",
    "import seaborn as sns"
   ]
  },
  {
   "cell_type": "code",
   "execution_count": 3,
   "id": "1af0645d-d32c-4b12-9726-4af7a21e7e60",
   "metadata": {},
   "outputs": [],
   "source": [
    "# Set directory and get data - may need to modify this to wherever you have the data stored \n",
    "#os.chdir(\"/Users/jordan/Desktop/NLP_Syllabi_Project_copy/data_and_output\")\n",
    "data = pd.read_csv(\"cleaned_data_new.csv\", lineterminator='\\n')\n",
    "data.drop(data.columns[[0, 1, 2]], axis = 1, inplace = True) #drop meaningless indice columns \n",
    "data['index'] = data.index\n",
    "#print(data.head())\n",
    "#len(data.index) #4889 documents "
   ]
  },
  {
   "cell_type": "code",
   "execution_count": 4,
   "id": "e98fc338-75c1-4e3a-9cfc-c9236d7736d3",
   "metadata": {},
   "outputs": [],
   "source": [
    "# Create new data, just text and index \n",
    "data = data[['Corpus', 'index']] \n",
    "#print(data.head())"
   ]
  },
  {
   "cell_type": "code",
   "execution_count": 5,
   "id": "766fb95d-5127-4992-9ccd-ca799f16019b",
   "metadata": {},
   "outputs": [],
   "source": [
    "# Further preprocessing (removes stop words and also words 3 characters or less) \n",
    "# Note: There was additional preprocessing done in previous steps (earlier scripts located in scripts folder)\n",
    "def preprocess(text):\n",
    "    result = []\n",
    "    for token in gensim.utils.simple_preprocess(text):\n",
    "        if token not in gensim.parsing.preprocessing.STOPWORDS and len(token) >3:\n",
    "            result.append(token)\n",
    "    return result\n",
    "\n",
    "#doc_sample = data[data['index'] == 1].values[0][0]\n",
    "#print('original document: ')\n",
    "#words = []\n",
    "#for word in doc_sample.split(' '):\n",
    "#    words.append(word)\n",
    "#print(words)\n",
    "#print('\\n\\n tokenized and document: ')\n",
    "#print(preprocess(doc_sample))\n",
    "\n",
    "processed_text = data['Corpus'].astype('str').map(preprocess)\n",
    "#print(processed_text[:10])"
   ]
  },
  {
   "cell_type": "code",
   "execution_count": 6,
   "id": "e50de6a6-7295-4478-bf27-0e6d922f6da0",
   "metadata": {},
   "outputs": [],
   "source": [
    "# Create a dictionary\n",
    "dictionary = gensim.corpora.Dictionary(processed_text)\n",
    "#count = 0 \n",
    "#for k, v in dictionary.iteritems():\n",
    "#    print(k, v)\n",
    "#    count += 1\n",
    "#    if count > 10:\n",
    "#        break"
   ]
  },
  {
   "cell_type": "code",
   "execution_count": 7,
   "id": "dd35804f-9d80-47de-8b10-c981902de1aa",
   "metadata": {},
   "outputs": [
    {
     "name": "stdout",
     "output_type": "stream",
     "text": [
      "NOTE: CHANGING MODEL PARAMETERS WILL PRODUCE NEW OUTPUT AND MAY TAKE AWHILE TO REFRESH\n"
     ]
    },
    {
     "data": {
      "application/vnd.jupyter.widget-view+json": {
       "model_id": "aa37810989fd4cd3a050ec3b40897670",
       "version_major": 2,
       "version_minor": 0
      },
      "text/plain": [
       "interactive(children=(IntSlider(value=25, description='low_freq', max=50, min=1), FloatSlider(value=0.35000000…"
      ]
     },
     "metadata": {},
     "output_type": "display_data"
    }
   ],
   "source": [
    "# Interactive LDA modeling \n",
    "print(\"NOTE: CHANGING MODEL PARAMETERS WILL PRODUCE NEW OUTPUT AND MAY TAKE AWHILE TO REFRESH\")\n",
    "@interact \n",
    "def output(low_freq=(1, 50, 1), high_freq=(0.05, 0.7, 0.05), topic_num = (10, 100, 10)):\n",
    "    dictionary.filter_extremes(no_below=low_freq, no_above = high_freq) #modify these \n",
    "    bow_corpus = [dictionary.doc2bow(doc) for doc in processed_text]\n",
    "    lda_model = gensim.models.ldamodel.LdaModel(bow_corpus, num_topics=topic_num, id2word=dictionary) \n",
    "    top_words_per_topic = []\n",
    "    for t in range(lda_model.num_topics):\n",
    "        y = [str(t)]\n",
    "        x = lda_model.get_topic_terms(t,10)\n",
    "        y.extend([dictionary[pair[0]] for pair in x])\n",
    "        top_words_per_topic.append(y)\n",
    "        y=[]\n",
    "    top_words_per_topic\n",
    "    word_list = [\"Word\" + str(i) for i in list(range(1,11))]\n",
    "    word_list\n",
    "    word_list.insert(0, \"Topic\")\n",
    "    out = pd.DataFrame(top_words_per_topic, columns=word_list)\n",
    "    # This print statement is to help the viewer know when output has refreshed \n",
    "    print(\"You are viewing results from a model with the following paramaters: \\n\"  \"Low frequency cutoff=\" + str(low_freq) + \"\\n\" + \n",
    "          \"High frequency cutoff=\"+str(round(high_freq, 2)) + \"\\n\" + \"Number of topics=\" + str(topic_num))\n",
    "    return out"
   ]
  },
  {
   "cell_type": "code",
   "execution_count": null,
   "id": "95c8033c-a602-4b02-a004-038333825e39",
   "metadata": {},
   "outputs": [],
   "source": []
  }
 ],
 "metadata": {
  "kernelspec": {
   "display_name": "Python 3",
   "language": "python",
   "name": "python3"
  },
  "language_info": {
   "codemirror_mode": {
    "name": "ipython",
    "version": 3
   },
   "file_extension": ".py",
   "mimetype": "text/x-python",
   "name": "python",
   "nbconvert_exporter": "python",
   "pygments_lexer": "ipython3",
   "version": "3.9.5"
  },
  "widgets": {
   "application/vnd.jupyter.widget-state+json": {
    "state": {
     "07b86aa7a0404b0c9dfd1294a252c472": {
      "model_module": "@jupyter-widgets/base",
      "model_module_version": "1.2.0",
      "model_name": "LayoutModel",
      "state": {}
     },
     "0f426f8650bd418dbe52e3c1d46d86b7": {
      "model_module": "@jupyter-widgets/controls",
      "model_module_version": "1.5.0",
      "model_name": "SliderStyleModel",
      "state": {
       "description_width": ""
      }
     },
     "2bf0e7e72f5a40b3b53a4c3af9f08043": {
      "model_module": "@jupyter-widgets/controls",
      "model_module_version": "1.5.0",
      "model_name": "IntSliderModel",
      "state": {
       "description": "topic_num",
       "layout": "IPY_MODEL_c5c2be1b1d054fbfa661b57b79796c05",
       "min": 10,
       "step": 10,
       "style": "IPY_MODEL_444eb2d0ebbe410cb39504c6b072d4cf",
       "value": 50
      }
     },
     "32d5403cf1ac44adbd5097eeea0173a0": {
      "model_module": "@jupyter-widgets/output",
      "model_module_version": "1.0.0",
      "model_name": "OutputModel",
      "state": {
       "layout": "IPY_MODEL_07b86aa7a0404b0c9dfd1294a252c472",
       "outputs": [
        {
         "name": "stdout",
         "output_type": "stream",
         "text": "You are viewing results from a model with the following paramaters: \nLow frequency cutoff=25\nHigh frequency cutoff=0.35\nNumber of topics=50\n"
        },
        {
         "data": {
          "text/html": "<div>\n<style scoped>\n    .dataframe tbody tr th:only-of-type {\n        vertical-align: middle;\n    }\n\n    .dataframe tbody tr th {\n        vertical-align: top;\n    }\n\n    .dataframe thead th {\n        text-align: right;\n    }\n</style>\n<table border=\"1\" class=\"dataframe\">\n  <thead>\n    <tr style=\"text-align: right;\">\n      <th></th>\n      <th>Topic</th>\n      <th>Word1</th>\n      <th>Word2</th>\n      <th>Word3</th>\n      <th>Word4</th>\n      <th>Word5</th>\n      <th>Word6</th>\n      <th>Word7</th>\n      <th>Word8</th>\n      <th>Word9</th>\n      <th>Word10</th>\n    </tr>\n  </thead>\n  <tbody>\n    <tr>\n      <th>0</th>\n      <td>0</td>\n      <td>major</td>\n      <td>exercises</td>\n      <td>minor</td>\n      <td>drills</td>\n      <td>triads</td>\n      <td>rhythm</td>\n      <td>keyboard</td>\n      <td>theory</td>\n      <td>sight</td>\n      <td>march</td>\n    </tr>\n    <tr>\n      <th>1</th>\n      <td>1</td>\n      <td>speech</td>\n      <td>german</td>\n      <td>homework</td>\n      <td>performance</td>\n      <td>thursday</td>\n      <td>tuesday</td>\n      <td>scene</td>\n      <td>section</td>\n      <td>outside</td>\n      <td>theatre</td>\n    </tr>\n    <tr>\n      <th>2</th>\n      <td>2</td>\n      <td>game</td>\n      <td>games</td>\n      <td>journal</td>\n      <td>play</td>\n      <td>club</td>\n      <td>bible</td>\n      <td>video</td>\n      <td>sacred</td>\n      <td>october</td>\n      <td>thursday</td>\n    </tr>\n    <tr>\n      <th>3</th>\n      <td>3</td>\n      <td>media</td>\n      <td>screening</td>\n      <td>digital</td>\n      <td>film</td>\n      <td>wednesday</td>\n      <td>culture</td>\n      <td>journal</td>\n      <td>lecture</td>\n      <td>section</td>\n      <td>monday</td>\n    </tr>\n    <tr>\n      <th>4</th>\n      <td>4</td>\n      <td>press</td>\n      <td>archaeology</td>\n      <td>ancient</td>\n      <td>modern</td>\n      <td>middle</td>\n      <td>east</td>\n      <td>culture</td>\n      <td>cultural</td>\n      <td>seminar</td>\n      <td>york</td>\n    </tr>\n    <tr>\n      <th>5</th>\n      <td>5</td>\n      <td>theory</td>\n      <td>equations</td>\n      <td>math</td>\n      <td>problem</td>\n      <td>ﬁnal</td>\n      <td>homework</td>\n      <td>applications</td>\n      <td>methods</td>\n      <td>midterm</td>\n      <td>calculus</td>\n    </tr>\n    <tr>\n      <th>6</th>\n      <td>6</td>\n      <td>music</td>\n      <td>american</td>\n      <td>press</td>\n      <td>politics</td>\n      <td>york</td>\n      <td>political</td>\n      <td>international</td>\n      <td>journal</td>\n      <td>democracy</td>\n      <td>latin</td>\n    </tr>\n    <tr>\n      <th>7</th>\n      <td>7</td>\n      <td>health</td>\n      <td>public</td>\n      <td>chapter</td>\n      <td>spanish</td>\n      <td>hisp</td>\n      <td>points</td>\n      <td>homework</td>\n      <td>activities</td>\n      <td>section</td>\n      <td>policy</td>\n    </tr>\n    <tr>\n      <th>8</th>\n      <td>8</td>\n      <td>theory</td>\n      <td>press</td>\n      <td>sociology</td>\n      <td>february</td>\n      <td>april</td>\n      <td>culture</td>\n      <td>black</td>\n      <td>life</td>\n      <td>york</td>\n      <td>march</td>\n    </tr>\n    <tr>\n      <th>9</th>\n      <td>9</td>\n      <td>film</td>\n      <td>screening</td>\n      <td>media</td>\n      <td>films</td>\n      <td>screenings</td>\n      <td>culture</td>\n      <td>development</td>\n      <td>wednesday</td>\n      <td>sound</td>\n      <td>russian</td>\n    </tr>\n    <tr>\n      <th>10</th>\n      <td>10</td>\n      <td>lecture</td>\n      <td>laboratory</td>\n      <td>drawing</td>\n      <td>experiment</td>\n      <td>cell</td>\n      <td>lectures</td>\n      <td>techniques</td>\n      <td>biology</td>\n      <td>critique</td>\n      <td>experimental</td>\n    </tr>\n    <tr>\n      <th>11</th>\n      <td>11</td>\n      <td>april</td>\n      <td>march</td>\n      <td>essay</td>\n      <td>clase</td>\n      <td>ideas</td>\n      <td>american</td>\n      <td>tuesday</td>\n      <td>literary</td>\n      <td>black</td>\n      <td>culture</td>\n    </tr>\n    <tr>\n      <th>12</th>\n      <td>12</td>\n      <td>homework</td>\n      <td>monday</td>\n      <td>arab</td>\n      <td>arabic</td>\n      <td>chapter</td>\n      <td>language</td>\n      <td>friday</td>\n      <td>quiz</td>\n      <td>exercises</td>\n      <td>wednesday</td>\n    </tr>\n    <tr>\n      <th>13</th>\n      <td>13</td>\n      <td>journal</td>\n      <td>american</td>\n      <td>policy</td>\n      <td>education</td>\n      <td>development</td>\n      <td>press</td>\n      <td>political</td>\n      <td>economic</td>\n      <td>public</td>\n      <td>science</td>\n    </tr>\n    <tr>\n      <th>14</th>\n      <td>14</td>\n      <td>kant</td>\n      <td>heidegger</td>\n      <td>critique</td>\n      <td>philosophy</td>\n      <td>mediterranean</td>\n      <td>sobre</td>\n      <td>para</td>\n      <td>reason</td>\n      <td>april</td>\n      <td>chapter</td>\n    </tr>\n    <tr>\n      <th>15</th>\n      <td>15</td>\n      <td>tuesday</td>\n      <td>thursday</td>\n      <td>march</td>\n      <td>pain</td>\n      <td>february</td>\n      <td>april</td>\n      <td>fiction</td>\n      <td>nature</td>\n      <td>lecture</td>\n      <td>science</td>\n    </tr>\n    <tr>\n      <th>16</th>\n      <td>16</td>\n      <td>business</td>\n      <td>case</td>\n      <td>section</td>\n      <td>management</td>\n      <td>sales</td>\n      <td>problem</td>\n      <td>team</td>\n      <td>module</td>\n      <td>technology</td>\n      <td>cases</td>\n    </tr>\n    <tr>\n      <th>17</th>\n      <td>17</td>\n      <td>design</td>\n      <td>play</td>\n      <td>projects</td>\n      <td>experience</td>\n      <td>process</td>\n      <td>language</td>\n      <td>create</td>\n      <td>teaching</td>\n      <td>reflection</td>\n      <td>outside</td>\n    </tr>\n    <tr>\n      <th>18</th>\n      <td>18</td>\n      <td>film</td>\n      <td>teaching</td>\n      <td>education</td>\n      <td>language</td>\n      <td>teachers</td>\n      <td>camera</td>\n      <td>editing</td>\n      <td>teacher</td>\n      <td>journal</td>\n      <td>classroom</td>\n    </tr>\n    <tr>\n      <th>19</th>\n      <td>19</td>\n      <td>theory</td>\n      <td>problems</td>\n      <td>homework</td>\n      <td>models</td>\n      <td>computational</td>\n      <td>python</td>\n      <td>augmented</td>\n      <td>method</td>\n      <td>science</td>\n      <td>methods</td>\n    </tr>\n    <tr>\n      <th>20</th>\n      <td>20</td>\n      <td>climate</td>\n      <td>environmental</td>\n      <td>change</td>\n      <td>food</td>\n      <td>earth</td>\n      <td>press</td>\n      <td>global</td>\n      <td>science</td>\n      <td>planet</td>\n      <td>orwell</td>\n    </tr>\n    <tr>\n      <th>21</th>\n      <td>21</td>\n      <td>data</td>\n      <td>health</td>\n      <td>public</td>\n      <td>statistical</td>\n      <td>design</td>\n      <td>methods</td>\n      <td>models</td>\n      <td>results</td>\n      <td>small</td>\n      <td>lectures</td>\n    </tr>\n    <tr>\n      <th>22</th>\n      <td>22</td>\n      <td>workshop</td>\n      <td>essay</td>\n      <td>writers</td>\n      <td>creative</td>\n      <td>portfolio</td>\n      <td>response</td>\n      <td>essays</td>\n      <td>nonfiction</td>\n      <td>pieces</td>\n      <td>bring</td>\n    </tr>\n    <tr>\n      <th>23</th>\n      <td>23</td>\n      <td>lesson</td>\n      <td>unit</td>\n      <td>deaf</td>\n      <td>homework</td>\n      <td>naturally</td>\n      <td>signing</td>\n      <td>language</td>\n      <td>video</td>\n      <td>culture</td>\n      <td>journal</td>\n    </tr>\n    <tr>\n      <th>24</th>\n      <td>24</td>\n      <td>american</td>\n      <td>chapter</td>\n      <td>journal</td>\n      <td>march</td>\n      <td>political</td>\n      <td>april</td>\n      <td>urban</td>\n      <td>chapters</td>\n      <td>stata</td>\n      <td>data</td>\n    </tr>\n    <tr>\n      <th>25</th>\n      <td>25</td>\n      <td>black</td>\n      <td>american</td>\n      <td>question</td>\n      <td>data</td>\n      <td>thesis</td>\n      <td>field</td>\n      <td>chapter</td>\n      <td>chicago</td>\n      <td>ideas</td>\n      <td>political</td>\n    </tr>\n    <tr>\n      <th>26</th>\n      <td>26</td>\n      <td>data</td>\n      <td>earth</td>\n      <td>regression</td>\n      <td>homework</td>\n      <td>statistical</td>\n      <td>models</td>\n      <td>chap</td>\n      <td>science</td>\n      <td>question</td>\n      <td>chapter</td>\n    </tr>\n    <tr>\n      <th>27</th>\n      <td>27</td>\n      <td>chinese</td>\n      <td>text</td>\n      <td>essay</td>\n      <td>food</td>\n      <td>africa</td>\n      <td>press</td>\n      <td>sources</td>\n      <td>film</td>\n      <td>china</td>\n      <td>essays</td>\n    </tr>\n    <tr>\n      <th>28</th>\n      <td>28</td>\n      <td>lecture</td>\n      <td>section</td>\n      <td>primary</td>\n      <td>jewish</td>\n      <td>slavery</td>\n      <td>science</td>\n      <td>modern</td>\n      <td>political</td>\n      <td>journal</td>\n      <td>inclass</td>\n    </tr>\n    <tr>\n      <th>29</th>\n      <td>29</td>\n      <td>tues</td>\n      <td>thurs</td>\n      <td>mindfulness</td>\n      <td>health</td>\n      <td>language</td>\n      <td>leer</td>\n      <td>film</td>\n      <td>sobre</td>\n      <td>tarea</td>\n      <td>para</td>\n    </tr>\n    <tr>\n      <th>30</th>\n      <td>30</td>\n      <td>lecture</td>\n      <td>section</td>\n      <td>exams</td>\n      <td>chapter</td>\n      <td>lectures</td>\n      <td>problem</td>\n      <td>science</td>\n      <td>concepts</td>\n      <td>theory</td>\n      <td>homework</td>\n    </tr>\n    <tr>\n      <th>31</th>\n      <td>31</td>\n      <td>homework</td>\n      <td>phys</td>\n      <td>physics</td>\n      <td>exams</td>\n      <td>midterm</td>\n      <td>problems</td>\n      <td>problem</td>\n      <td>textbook</td>\n      <td>laboratory</td>\n      <td>phenomena</td>\n    </tr>\n    <tr>\n      <th>32</th>\n      <td>32</td>\n      <td>performance</td>\n      <td>turkey</td>\n      <td>friday</td>\n      <td>april</td>\n      <td>modern</td>\n      <td>chinese</td>\n      <td>scene</td>\n      <td>march</td>\n      <td>turkish</td>\n      <td>russian</td>\n    </tr>\n    <tr>\n      <th>33</th>\n      <td>33</td>\n      <td>french</td>\n      <td>fren</td>\n      <td>unité</td>\n      <td>oral</td>\n      <td>saison</td>\n      <td>exams</td>\n      <td>paris</td>\n      <td>homework</td>\n      <td>hall</td>\n      <td>unexcused</td>\n    </tr>\n    <tr>\n      <th>34</th>\n      <td>34</td>\n      <td>housing</td>\n      <td>relativity</td>\n      <td>heintz</td>\n      <td>sessions</td>\n      <td>quantum</td>\n      <td>homework</td>\n      <td>lectures</td>\n      <td>physics</td>\n      <td>chapter</td>\n      <td>gentrification</td>\n    </tr>\n    <tr>\n      <th>35</th>\n      <td>35</td>\n      <td>women</td>\n      <td>black</td>\n      <td>historical</td>\n      <td>press</td>\n      <td>film</td>\n      <td>slavery</td>\n      <td>american</td>\n      <td>political</td>\n      <td>gender</td>\n      <td>chapter</td>\n    </tr>\n    <tr>\n      <th>36</th>\n      <td>36</td>\n      <td>hall</td>\n      <td>section</td>\n      <td>homework</td>\n      <td>economics</td>\n      <td>conference</td>\n      <td>lecture</td>\n      <td>midterm</td>\n      <td>chapters</td>\n      <td>economic</td>\n      <td>econ</td>\n    </tr>\n    <tr>\n      <th>37</th>\n      <td>37</td>\n      <td>cinema</td>\n      <td>news</td>\n      <td>film</td>\n      <td>screening</td>\n      <td>spectacle</td>\n      <td>seminar</td>\n      <td>films</td>\n      <td>apparatus</td>\n      <td>conversation</td>\n      <td>economic</td>\n    </tr>\n    <tr>\n      <th>38</th>\n      <td>38</td>\n      <td>unit</td>\n      <td>magnetic</td>\n      <td>homework</td>\n      <td>electric</td>\n      <td>magnetism</td>\n      <td>lecture</td>\n      <td>conference</td>\n      <td>gauss</td>\n      <td>sessions</td>\n      <td>seminar</td>\n    </tr>\n    <tr>\n      <th>39</th>\n      <td>39</td>\n      <td>language</td>\n      <td>spanish</td>\n      <td>hisp</td>\n      <td>activities</td>\n      <td>grammar</td>\n      <td>homework</td>\n      <td>italian</td>\n      <td>grades</td>\n      <td>connect</td>\n      <td>check</td>\n    </tr>\n    <tr>\n      <th>40</th>\n      <td>40</td>\n      <td>health</td>\n      <td>seminar</td>\n      <td>april</td>\n      <td>evaluation</td>\n      <td>march</td>\n      <td>public</td>\n      <td>february</td>\n      <td>proposal</td>\n      <td>global</td>\n      <td>data</td>\n    </tr>\n    <tr>\n      <th>41</th>\n      <td>41</td>\n      <td>language</td>\n      <td>vocabulary</td>\n      <td>homework</td>\n      <td>grammar</td>\n      <td>korean</td>\n      <td>listening</td>\n      <td>russian</td>\n      <td>activities</td>\n      <td>oral</td>\n      <td>tests</td>\n    </tr>\n    <tr>\n      <th>42</th>\n      <td>42</td>\n      <td>digital</td>\n      <td>media</td>\n      <td>wednesday</td>\n      <td>tuesday</td>\n      <td>video</td>\n      <td>data</td>\n      <td>monday</td>\n      <td>sound</td>\n      <td>labs</td>\n      <td>image</td>\n    </tr>\n    <tr>\n      <th>43</th>\n      <td>43</td>\n      <td>language</td>\n      <td>section</td>\n      <td>lecture</td>\n      <td>oral</td>\n      <td>sections</td>\n      <td>question</td>\n      <td>individual</td>\n      <td>exams</td>\n      <td>activities</td>\n      <td>homework</td>\n    </tr>\n    <tr>\n      <th>44</th>\n      <td>44</td>\n      <td>istanbul</td>\n      <td>turkey</td>\n      <td>ottoman</td>\n      <td>city</td>\n      <td>empire</td>\n      <td>modern</td>\n      <td>chapter</td>\n      <td>global</td>\n      <td>urban</td>\n      <td>cleveland</td>\n    </tr>\n    <tr>\n      <th>45</th>\n      <td>45</td>\n      <td>press</td>\n      <td>political</td>\n      <td>international</td>\n      <td>global</td>\n      <td>security</td>\n      <td>politics</td>\n      <td>policy</td>\n      <td>york</td>\n      <td>cambridge</td>\n      <td>national</td>\n    </tr>\n    <tr>\n      <th>46</th>\n      <td>46</td>\n      <td>cours</td>\n      <td>italian</td>\n      <td>vous</td>\n      <td>fren</td>\n      <td>oral</td>\n      <td>homework</td>\n      <td>french</td>\n      <td>dans</td>\n      <td>français</td>\n      <td>film</td>\n    </tr>\n    <tr>\n      <th>47</th>\n      <td>47</td>\n      <td>health</td>\n      <td>lecture</td>\n      <td>article</td>\n      <td>care</td>\n      <td>science</td>\n      <td>systems</td>\n      <td>engineering</td>\n      <td>chapter</td>\n      <td>policy</td>\n      <td>presentations</td>\n    </tr>\n    <tr>\n      <th>48</th>\n      <td>48</td>\n      <td>meditation</td>\n      <td>japanese</td>\n      <td>ocra</td>\n      <td>moral</td>\n      <td>buddhist</td>\n      <td>philosophy</td>\n      <td>buddhism</td>\n      <td>press</td>\n      <td>religious</td>\n      <td>life</td>\n    </tr>\n    <tr>\n      <th>49</th>\n      <td>49</td>\n      <td>race</td>\n      <td>april</td>\n      <td>march</td>\n      <td>press</td>\n      <td>black</td>\n      <td>american</td>\n      <td>february</td>\n      <td>racism</td>\n      <td>racial</td>\n      <td>politics</td>\n    </tr>\n  </tbody>\n</table>\n</div>",
          "text/plain": "   Topic        Word1          Word2          Word3        Word4  \\\n0      0        major      exercises          minor       drills   \n1      1       speech         german       homework  performance   \n2      2         game          games        journal         play   \n3      3        media      screening        digital         film   \n4      4        press    archaeology        ancient       modern   \n5      5       theory      equations           math      problem   \n6      6        music       american          press     politics   \n7      7       health         public        chapter      spanish   \n8      8       theory          press      sociology     february   \n9      9         film      screening          media        films   \n10    10      lecture     laboratory        drawing   experiment   \n11    11        april          march          essay        clase   \n12    12     homework         monday           arab       arabic   \n13    13      journal       american         policy    education   \n14    14         kant      heidegger       critique   philosophy   \n15    15      tuesday       thursday          march         pain   \n16    16     business           case        section   management   \n17    17       design           play       projects   experience   \n18    18         film       teaching      education     language   \n19    19       theory       problems       homework       models   \n20    20      climate  environmental         change         food   \n21    21         data         health         public  statistical   \n22    22     workshop          essay        writers     creative   \n23    23       lesson           unit           deaf     homework   \n24    24     american        chapter        journal        march   \n25    25        black       american       question         data   \n26    26         data          earth     regression     homework   \n27    27      chinese           text          essay         food   \n28    28      lecture        section        primary       jewish   \n29    29         tues          thurs    mindfulness       health   \n30    30      lecture        section          exams      chapter   \n31    31     homework           phys        physics        exams   \n32    32  performance         turkey         friday        april   \n33    33       french           fren          unité         oral   \n34    34      housing     relativity         heintz     sessions   \n35    35        women          black     historical        press   \n36    36         hall        section       homework    economics   \n37    37       cinema           news           film    screening   \n38    38         unit       magnetic       homework     electric   \n39    39     language        spanish           hisp   activities   \n40    40       health        seminar          april   evaluation   \n41    41     language     vocabulary       homework      grammar   \n42    42      digital          media      wednesday      tuesday   \n43    43     language        section        lecture         oral   \n44    44     istanbul         turkey        ottoman         city   \n45    45        press      political  international       global   \n46    46        cours        italian           vous         fren   \n47    47       health        lecture        article         care   \n48    48   meditation       japanese           ocra        moral   \n49    49         race          april          march        press   \n\n            Word5       Word6          Word7       Word8         Word9  \\\n0          triads      rhythm       keyboard      theory         sight   \n1        thursday     tuesday          scene     section       outside   \n2            club       bible          video      sacred       october   \n3       wednesday     culture        journal     lecture       section   \n4          middle        east        culture    cultural       seminar   \n5            ﬁnal    homework   applications     methods       midterm   \n6            york   political  international     journal     democracy   \n7            hisp      points       homework  activities       section   \n8           april     culture          black        life          york   \n9      screenings     culture    development   wednesday         sound   \n10           cell    lectures     techniques     biology      critique   \n11          ideas    american        tuesday    literary         black   \n12        chapter    language         friday        quiz     exercises   \n13    development       press      political    economic        public   \n14  mediterranean       sobre           para      reason         april   \n15       february       april        fiction      nature       lecture   \n16          sales     problem           team      module    technology   \n17        process    language         create    teaching    reflection   \n18       teachers      camera        editing     teacher       journal   \n19  computational      python      augmented      method       science   \n20          earth       press         global     science        planet   \n21         design     methods         models     results         small   \n22      portfolio    response         essays  nonfiction        pieces   \n23      naturally     signing       language       video       culture   \n24      political       april          urban    chapters         stata   \n25         thesis       field        chapter     chicago         ideas   \n26    statistical      models           chap     science      question   \n27         africa       press        sources        film         china   \n28        slavery     science         modern   political       journal   \n29       language        leer           film       sobre         tarea   \n30       lectures     problem        science    concepts        theory   \n31        midterm    problems        problem    textbook    laboratory   \n32         modern     chinese          scene       march       turkish   \n33         saison       exams          paris    homework          hall   \n34        quantum    homework       lectures     physics       chapter   \n35           film     slavery       american   political        gender   \n36     conference     lecture        midterm    chapters      economic   \n37      spectacle     seminar          films   apparatus  conversation   \n38      magnetism     lecture     conference       gauss      sessions   \n39        grammar    homework        italian      grades       connect   \n40          march      public       february    proposal        global   \n41         korean   listening        russian  activities          oral   \n42          video        data         monday       sound          labs   \n43       sections    question     individual       exams    activities   \n44         empire      modern        chapter      global         urban   \n45       security    politics         policy        york     cambridge   \n46           oral    homework         french        dans      français   \n47        science     systems    engineering     chapter        policy   \n48       buddhist  philosophy       buddhism       press     religious   \n49          black    american       february      racism        racial   \n\n            Word10  \n0            march  \n1          theatre  \n2         thursday  \n3           monday  \n4             york  \n5         calculus  \n6            latin  \n7           policy  \n8            march  \n9          russian  \n10    experimental  \n11         culture  \n12       wednesday  \n13         science  \n14         chapter  \n15         science  \n16           cases  \n17         outside  \n18       classroom  \n19         methods  \n20          orwell  \n21        lectures  \n22           bring  \n23         journal  \n24            data  \n25       political  \n26         chapter  \n27          essays  \n28         inclass  \n29            para  \n30        homework  \n31       phenomena  \n32         russian  \n33       unexcused  \n34  gentrification  \n35         chapter  \n36            econ  \n37        economic  \n38         seminar  \n39           check  \n40            data  \n41           tests  \n42           image  \n43        homework  \n44       cleveland  \n45        national  \n46            film  \n47   presentations  \n48            life  \n49        politics  "
         },
         "metadata": {},
         "output_type": "display_data"
        }
       ]
      }
     },
     "3ab93a0daadb449da211089cac9ae886": {
      "model_module": "@jupyter-widgets/base",
      "model_module_version": "1.2.0",
      "model_name": "LayoutModel",
      "state": {}
     },
     "444eb2d0ebbe410cb39504c6b072d4cf": {
      "model_module": "@jupyter-widgets/controls",
      "model_module_version": "1.5.0",
      "model_name": "SliderStyleModel",
      "state": {
       "description_width": ""
      }
     },
     "50a834bd614948c2a22eb4e819ab234b": {
      "model_module": "@jupyter-widgets/controls",
      "model_module_version": "1.5.0",
      "model_name": "SliderStyleModel",
      "state": {
       "description_width": ""
      }
     },
     "5c195c430a714766ac5712387cfaf1a1": {
      "model_module": "@jupyter-widgets/base",
      "model_module_version": "1.2.0",
      "model_name": "LayoutModel",
      "state": {}
     },
     "5e411941c1c9493c8a3682da7da8d9d2": {
      "model_module": "@jupyter-widgets/base",
      "model_module_version": "1.2.0",
      "model_name": "LayoutModel",
      "state": {}
     },
     "869eb52152cd4a5ca5b19a1ebfac6c46": {
      "model_module": "@jupyter-widgets/controls",
      "model_module_version": "1.5.0",
      "model_name": "FloatSliderModel",
      "state": {
       "description": "high_freq",
       "layout": "IPY_MODEL_5c195c430a714766ac5712387cfaf1a1",
       "max": 0.7,
       "min": 0.05,
       "step": 0.05,
       "style": "IPY_MODEL_0f426f8650bd418dbe52e3c1d46d86b7",
       "value": 0.35000000000000003
      }
     },
     "aa37810989fd4cd3a050ec3b40897670": {
      "model_module": "@jupyter-widgets/controls",
      "model_module_version": "1.5.0",
      "model_name": "VBoxModel",
      "state": {
       "_dom_classes": [
        "widget-interact"
       ],
       "children": [
        "IPY_MODEL_ba38e0c91b7e4b92849f3da39db03ed8",
        "IPY_MODEL_869eb52152cd4a5ca5b19a1ebfac6c46",
        "IPY_MODEL_2bf0e7e72f5a40b3b53a4c3af9f08043",
        "IPY_MODEL_32d5403cf1ac44adbd5097eeea0173a0"
       ],
       "layout": "IPY_MODEL_3ab93a0daadb449da211089cac9ae886"
      }
     },
     "ba38e0c91b7e4b92849f3da39db03ed8": {
      "model_module": "@jupyter-widgets/controls",
      "model_module_version": "1.5.0",
      "model_name": "IntSliderModel",
      "state": {
       "description": "low_freq",
       "layout": "IPY_MODEL_5e411941c1c9493c8a3682da7da8d9d2",
       "max": 50,
       "min": 1,
       "style": "IPY_MODEL_50a834bd614948c2a22eb4e819ab234b",
       "value": 25
      }
     },
     "c5c2be1b1d054fbfa661b57b79796c05": {
      "model_module": "@jupyter-widgets/base",
      "model_module_version": "1.2.0",
      "model_name": "LayoutModel",
      "state": {}
     }
    },
    "version_major": 2,
    "version_minor": 0
   }
  }
 },
 "nbformat": 4,
 "nbformat_minor": 5
}
